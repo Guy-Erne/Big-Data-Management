{
 "cells": [
  {
   "cell_type": "code",
   "execution_count": 1,
   "metadata": {},
   "outputs": [],
   "source": [
    "from pyspark import SparkContext\n",
    "from pyspark import SparkConf\n",
    "from pyspark.streaming import StreamingContext\n",
    "from pyspark.sql import Row,SparkSession\n",
    "import time\n",
    "from cassandra.cluster import Cluster"
   ]
  },
  {
   "cell_type": "code",
   "execution_count": 2,
   "metadata": {
    "collapsed": true
   },
   "outputs": [],
   "source": [
    "cassandra_host = ['127.0.0.1']\n",
    "cassandra_port = 9042\n",
    "cassandra_keyspace = 'assignment3'"
   ]
  },
  {
   "cell_type": "code",
   "execution_count": 3,
   "metadata": {},
   "outputs": [],
   "source": [
    "inputDirectoryPath = '/home/ishan/Desktop/Assignment3/streaming/'\n",
    "\n",
    "conf = (SparkConf()\n",
    "        .setAppName(\"Assignment3\")\n",
    "        .set('spark.cassandra.connection.host', cassandra_host[0])\n",
    "        .set('spark.cassandra.connection.port', cassandra_port)\n",
    "        .set('spark.jars', '/home/ishan/Desktop/Assignment3/jars/spark-cassandra-connector_2.11-2.3.1.jar,/home/ishan/Desktop/Assignment3/jars/jsr166e-1.1.0.jar')\n",
    "        .setMaster('local[*]'))\n",
    "sc = SparkContext.getOrCreate(conf = conf)\n",
    "ssc = StreamingContext(sparkContext = sc, batchDuration = 5)\n",
    "spark = SparkSession.builder.config(conf=conf).getOrCreate()\n",
    "\n",
    "rows = ssc.textFileStream(inputDirectoryPath)\n",
    "rows = rows.map(lambda row: row.split(','))"
   ]
  },
  {
   "cell_type": "code",
   "execution_count": 4,
   "metadata": {
    "collapsed": true
   },
   "outputs": [],
   "source": [
    "cassandra_create_queries = [\n",
    "    \"CREATE KEYSPACE IF NOT EXISTS \" + cassandra_keyspace + \" WITH replication = {'class':'SimpleStrategy', 'replication_factor':1};\",\n",
    "    'use ' + cassandra_keyspace + ';',\n",
    "    'create table if not exists q1 (time text, classname text, count int, primary key(time, classname));',\n",
    "    'create table if not exists q2 (time text, classname text, avg_speed double, primary key(time, classname));',\n",
    "    'create table if not exists q3 (time text, counter_site text, count int, primary key(time, counter_site));',\n",
    "    'create table if not exists q4 (time text, classname text, count int, primary key(time, classname));'\n",
    "]\n",
    "\n",
    "def setupCassandra():\n",
    "    cluster = Cluster(cassandra_host)\n",
    "    session = cluster.connect()\n",
    "    for query in cassandra_create_queries:\n",
    "        print(\"Executing - {}\".format(query))\n",
    "        session.execute(query)"
   ]
  },
  {
   "cell_type": "code",
   "execution_count": 5,
   "metadata": {},
   "outputs": [
    {
     "name": "stderr",
     "output_type": "stream",
     "text": [
      "/home/ishan/.local/lib/python3.5/site-packages/ipykernel_launcher.py:11: DeprecationWarning: The 'warn' method is deprecated, use 'warning' instead\n",
      "  # This is added back by InteractiveShellApp.init_path()\n"
     ]
    },
    {
     "name": "stdout",
     "output_type": "stream",
     "text": [
      "Executing - CREATE KEYSPACE IF NOT EXISTS assignment3 WITH replication = {'class':'SimpleStrategy', 'replication_factor':1};\n",
      "Executing - use assignment3;\n",
      "Executing - create table if not exists q1 (time text, classname text, count int, primary key(time, classname));\n",
      "Executing - create table if not exists q2 (time text, classname text, avg_speed double, primary key(time, classname));\n",
      "Executing - create table if not exists q3 (time text, counter_site text, count int, primary key(time, counter_site));\n",
      "Executing - create table if not exists q4 (time text, classname text, count int, primary key(time, classname));\n"
     ]
    }
   ],
   "source": [
    "setupCassandra()"
   ]
  },
  {
   "cell_type": "code",
   "execution_count": 6,
   "metadata": {
    "collapsed": true
   },
   "outputs": [],
   "source": [
    "# 2. Prepare the streaming application to read the data streams from the streaming directory using a batch length\n",
    "# of 5 seconds."
   ]
  },
  {
   "cell_type": "code",
   "execution_count": 7,
   "metadata": {
    "collapsed": true
   },
   "outputs": [],
   "source": [
    "# Define the following streaming computations (every 5 seconds):"
   ]
  },
  {
   "cell_type": "code",
   "execution_count": 8,
   "metadata": {
    "collapsed": true
   },
   "outputs": [],
   "source": [
    "# 1. Show total number of counts (on each site of M50) by vehicle class."
   ]
  },
  {
   "cell_type": "code",
   "execution_count": 9,
   "metadata": {},
   "outputs": [],
   "source": [
    "vehicleClassColIndex = 14\n",
    "\n",
    "vehicleCountPerClass = (rows\n",
    "                        .map(lambda row: (row[vehicleClassColIndex].strip('\"'), 1))\n",
    "                        .reduceByKey(lambda x, y: x + y))\n",
    "\n",
    "def saveQ1(time, rdd):\n",
    "    if not rdd.isEmpty():\n",
    "        rowRDD = rdd.map(lambda row: Row(time=time, classname=row[0], count=row[1]))\n",
    "        df = spark.createDataFrame(rowRDD)\n",
    "        (df.write.format(\"org.apache.spark.sql.cassandra\")\n",
    "         .mode('append')\n",
    "         .options(table=\"q1\", keyspace=cassandra_keyspace)\n",
    "         .save())\n",
    "\n",
    "vehicleCountPerClass.foreachRDD(saveQ1)"
   ]
  },
  {
   "cell_type": "code",
   "execution_count": 10,
   "metadata": {
    "collapsed": true
   },
   "outputs": [],
   "source": [
    "# 2. Compute the average speed (on each site on M50) by vehicle class."
   ]
  },
  {
   "cell_type": "code",
   "execution_count": 11,
   "metadata": {},
   "outputs": [],
   "source": [
    "vehicleClassColIndex = 14\n",
    "speedColIndex = 18\n",
    "\n",
    "averageSpeedPerClass = (rows\n",
    "                       .map(lambda row: (row[vehicleClassColIndex].strip('\"'), float(row[speedColIndex].strip('\"'))))\n",
    "                       .groupByKey()\n",
    "                       .map(lambda row: (row[0], list(row[1])))\n",
    "                       .map(lambda row: (row[0], sum(row[1]) / len(row[1]))))\n",
    "\n",
    "def saveQ2(time, rdd):\n",
    "    if not rdd.isEmpty():\n",
    "        rowRDD = rdd.map(lambda row: Row(time=time, classname=row[0], avg_speed=row[1]))\n",
    "        df = spark.createDataFrame(rowRDD)\n",
    "        (df.write.format(\"org.apache.spark.sql.cassandra\")\n",
    "         .mode('append')\n",
    "         .options(table=\"q2\", keyspace=cassandra_keyspace)\n",
    "         .save())\n",
    "\n",
    "averageSpeedPerClass.foreachRDD(saveQ2)"
   ]
  },
  {
   "cell_type": "code",
   "execution_count": 12,
   "metadata": {
    "collapsed": true
   },
   "outputs": [],
   "source": [
    "# 3. Find the top 3 busiest counter sites on M50."
   ]
  },
  {
   "cell_type": "code",
   "execution_count": 13,
   "metadata": {},
   "outputs": [],
   "source": [
    "counterSitesColIndex = 10\n",
    "\n",
    "counterSitesPerClass = (rows\n",
    "                       .map(lambda row: (row[counterSitesColIndex].strip('\"'), 1))\n",
    "                       .reduceByKey(lambda x, y: x + y)\n",
    "                       .transform(lambda row: row.sortBy(lambda x: x[1], ascending=False)))\n",
    "\n",
    "def saveQ3(time, rdd):\n",
    "    if not rdd.isEmpty():\n",
    "        rowRDD = rdd.map(lambda row: Row(time=time, counter_site=row[0], count=row[1]))\n",
    "        df = spark.createDataFrame(rowRDD)\n",
    "        # Limit top 3 values\n",
    "        (df.limit(3).write.format(\"org.apache.spark.sql.cassandra\")\n",
    "         .mode('append')\n",
    "         .options(table=\"q3\", keyspace=cassandra_keyspace)\n",
    "         .save())\n",
    "\n",
    "counterSitesPerClass.foreachRDD(saveQ3)"
   ]
  },
  {
   "cell_type": "code",
   "execution_count": 14,
   "metadata": {
    "collapsed": true
   },
   "outputs": [],
   "source": [
    "# 4. Find total number of counts for HGVs on M50."
   ]
  },
  {
   "cell_type": "code",
   "execution_count": 15,
   "metadata": {},
   "outputs": [],
   "source": [
    "vehicleClassColIndex = 14\n",
    "counterSitesColIndex = 10\n",
    "\n",
    "countsForHGVs = (rows\n",
    "                .filter(lambda row: \"HGV\" in row[vehicleClassColIndex])\n",
    "                .map(lambda row: (row[counterSitesColIndex].strip('\"'), 1))\n",
    "                .reduceByKey(lambda x, y: x + y))\n",
    "\n",
    "def saveQ4(time, rdd):\n",
    "    if not rdd.isEmpty():\n",
    "        rowRDD = rdd.map(lambda row: Row(time=time, classname=row[0], count=row[1]))\n",
    "        df = spark.createDataFrame(rowRDD)\n",
    "        (df.write.format(\"org.apache.spark.sql.cassandra\")\n",
    "         .mode('append')\n",
    "         .options(table=\"q4\", keyspace=cassandra_keyspace)\n",
    "         .save())\n",
    "\n",
    "countsForHGVs.foreachRDD(saveQ4)"
   ]
  },
  {
   "cell_type": "code",
   "execution_count": 16,
   "metadata": {},
   "outputs": [],
   "source": [
    "ssc.start()"
   ]
  },
  {
   "cell_type": "code",
   "execution_count": 17,
   "metadata": {},
   "outputs": [
    {
     "data": {
      "text/plain": [
       "False"
      ]
     },
     "execution_count": 17,
     "metadata": {},
     "output_type": "execute_result"
    }
   ],
   "source": [
    "ssc.awaitTerminationOrTimeout(timeout = 300)  # Timeout after 5 * 60 = 300 seconds (5 minutes)"
   ]
  },
  {
   "cell_type": "code",
   "execution_count": null,
   "metadata": {
    "collapsed": true
   },
   "outputs": [],
   "source": []
  }
 ],
 "metadata": {
  "kernelspec": {
   "display_name": "Python 3",
   "language": "python",
   "name": "python3"
  },
  "language_info": {
   "codemirror_mode": {
    "name": "ipython",
    "version": 3
   },
   "file_extension": ".py",
   "mimetype": "text/x-python",
   "name": "python",
   "nbconvert_exporter": "python",
   "pygments_lexer": "ipython3",
   "version": "3.5.2"
  }
 },
 "nbformat": 4,
 "nbformat_minor": 2
}
