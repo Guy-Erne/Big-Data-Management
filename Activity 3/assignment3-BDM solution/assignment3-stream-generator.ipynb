{
 "cells": [
  {
   "cell_type": "code",
   "execution_count": null,
   "metadata": {
    "collapsed": true
   },
   "outputs": [],
   "source": [
    "import time\n",
    "from itertools import groupby, count, islice"
   ]
  },
  {
   "cell_type": "code",
   "execution_count": null,
   "metadata": {
    "collapsed": true
   },
   "outputs": [],
   "source": [
    "# 1.Read 10 records (of each counter site - ignore the test site) every 5 seconds from traffic counter data file\n",
    "# and stores them as separate files (countdata1,countdata2, countdata3, etc.) in the streaming directory on which\n",
    "# your application is listening."
   ]
  },
  {
   "cell_type": "code",
   "execution_count": null,
   "metadata": {
    "collapsed": true
   },
   "outputs": [],
   "source": [
    "inputFilePath = '/home/ishan/Desktop/Assignment3/dataset/per-vehicle-records-2020-01-31.csv'\n",
    "outputDirectoryPath = '/home/ishan/Desktop/Assignment3/streaming/'"
   ]
  },
  {
   "cell_type": "code",
   "execution_count": null,
   "metadata": {
    "collapsed": true
   },
   "outputs": [],
   "source": [
    "def divide_chunks(l, chunk_size): \n",
    "    c = count()\n",
    "    for _, g in groupby(l, lambda _: next(c) // chunk_size):\n",
    "        yield g"
   ]
  },
  {
   "cell_type": "code",
   "execution_count": null,
   "metadata": {
    "collapsed": true
   },
   "outputs": [],
   "source": [
    "def write_records(records, file_path):\n",
    "    with open(file_path, 'w') as f:\n",
    "        f.writelines(record + '\\n' for record in records)"
   ]
  },
  {
   "cell_type": "code",
   "execution_count": null,
   "metadata": {},
   "outputs": [],
   "source": [
    "inputLines = (line.rstrip('\\n') for line in open(inputFilePath))\n",
    "# Skipping header\n",
    "inputLines = islice(inputLines, 1, None)\n",
    "# Filtering out Test sites\n",
    "inputLines = filter(lambda x: \"test\" not in x.split(',')[10].lower(), inputLines)\n",
    "# Dividing into chunks\n",
    "inputChunks = divide_chunks(inputLines, 10)"
   ]
  },
  {
   "cell_type": "code",
   "execution_count": null,
   "metadata": {},
   "outputs": [],
   "source": [
    "counter = 0\n",
    "for chunk in inputChunks:\n",
    "    counter += 1\n",
    "    write_records(chunk, '{}/countdata{}.csv'.format(outputDirectoryPath, counter))\n",
    "    time.sleep(5)"
   ]
  },
  {
   "cell_type": "code",
   "execution_count": null,
   "metadata": {
    "collapsed": true
   },
   "outputs": [],
   "source": []
  }
 ],
 "metadata": {
  "kernelspec": {
   "display_name": "Python 3",
   "language": "python",
   "name": "python3"
  },
  "language_info": {
   "codemirror_mode": {
    "name": "ipython",
    "version": 3
   },
   "file_extension": ".py",
   "mimetype": "text/x-python",
   "name": "python",
   "nbconvert_exporter": "python",
   "pygments_lexer": "ipython3",
   "version": "3.5.2"
  }
 },
 "nbformat": 4,
 "nbformat_minor": 2
}
