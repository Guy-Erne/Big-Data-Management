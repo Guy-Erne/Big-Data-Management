{
 "cells": [
  {
   "cell_type": "code",
   "execution_count": 1,
   "metadata": {
    "collapsed": true
   },
   "outputs": [],
   "source": [
    "from pyspark import SparkConf\n",
    "from pyspark import SparkContext\n",
    "from pyspark.sql import SQLContext\n",
    "from pyspark.sql.functions import *\n",
    "from cassandra.cluster import Cluster"
   ]
  },
  {
   "cell_type": "code",
   "execution_count": 2,
   "metadata": {
    "collapsed": true
   },
   "outputs": [],
   "source": [
    "cassandra_host = ['127.0.0.1']\n",
    "cassandra_port = 9042\n",
    "cassandra_keyspace = 'assignment'\n",
    "file_path = '/home/ishan/Desktop/Assignment/dataset/per-vehicle-records-2020-01-31.csv'"
   ]
  },
  {
   "cell_type": "code",
   "execution_count": 3,
   "metadata": {
    "collapsed": true
   },
   "outputs": [],
   "source": [
    "conf = (SparkConf()\n",
    "        .setAppName(\"Assignment\")\n",
    "        .set('spark.cassandra.connection.host', cassandra_host[0])\n",
    "        .set('spark.cassandra.connection.port', cassandra_port)\n",
    "        .set('spark.jars', '/home/ishan/Desktop/Assignment/spark-cassandra-connector_2.11-2.0.12.jar,/home/ishan/Desktop/Assignment/jsr166e-1.1.0.jar')\n",
    "        .setMaster('local[*]'))\n",
    "sc = SparkContext.getOrCreate(conf = conf)\n",
    "sqlContext = SQLContext(sc)"
   ]
  },
  {
   "cell_type": "code",
   "execution_count": 4,
   "metadata": {
    "collapsed": true
   },
   "outputs": [],
   "source": [
    "cassandra_create_queries = [\n",
    "    \"CREATE KEYSPACE IF NOT EXISTS \" + cassandra_keyspace + \" WITH replication = {'class':'SimpleStrategy', 'replication_factor':1};\",\n",
    "    'use ' + cassandra_keyspace + ';',\n",
    "    'create table if not exists q1 (classname text primary key, percent double);',\n",
    "    'create table if not exists q2_max (hour int primary key, count int);',\n",
    "    'create table if not exists q2_min (hour int primary key, count int);',\n",
    "    'create table if not exists q3_morning (hour int primary key, count int);',\n",
    "    'create table if not exists q3_evening (hour int primary key, count int);',\n",
    "    'create table if not exists q4 (lanename text primary key, avg_speed double);',\n",
    "    'create table if not exists q5 (lanename text primary key, avg_cosit double, count int);'\n",
    "]\n",
    "\n",
    "def setupCassandra():\n",
    "    cluster = Cluster(cassandra_host)\n",
    "    session = cluster.connect()\n",
    "    for query in cassandra_create_queries:\n",
    "        print(\"Executing - {}\".format(query))\n",
    "        session.execute(query)"
   ]
  },
  {
   "cell_type": "code",
   "execution_count": 5,
   "metadata": {
    "collapsed": true
   },
   "outputs": [],
   "source": [
    "def saveToCassandra(df, table_name):\n",
    "    (df\n",
    "     .write\n",
    "     .format(\"org.apache.spark.sql.cassandra\")\n",
    "     .mode('append')\n",
    "     .options(table=table_name, keyspace=cassandra_keyspace)\n",
    "     .save())"
   ]
  },
  {
   "cell_type": "code",
   "execution_count": 6,
   "metadata": {},
   "outputs": [
    {
     "name": "stderr",
     "output_type": "stream",
     "text": [
      "/home/ishan/.local/lib/python3.5/site-packages/ipykernel_launcher.py:14: DeprecationWarning: The 'warn' method is deprecated, use 'warning' instead\n",
      "  \n"
     ]
    },
    {
     "name": "stdout",
     "output_type": "stream",
     "text": [
      "Executing - CREATE KEYSPACE IF NOT EXISTS assignment WITH replication = {'class':'SimpleStrategy', 'replication_factor':1};\n",
      "Executing - use assignment;\n",
      "Executing - create table if not exists q1 (classname text primary key, percent double);\n",
      "Executing - create table if not exists q2_max (hour int primary key, count int);\n",
      "Executing - create table if not exists q2_min (hour int primary key, count int);\n",
      "Executing - create table if not exists q3_morning (hour int primary key, count int);\n",
      "Executing - create table if not exists q3_evening (hour int primary key, count int);\n",
      "Executing - create table if not exists q4 (lanename text primary key, avg_speed double);\n",
      "Executing - create table if not exists q5 (lanename text primary key, avg_cosit double, count int);\n"
     ]
    }
   ],
   "source": [
    "setupCassandra()"
   ]
  },
  {
   "cell_type": "code",
   "execution_count": 7,
   "metadata": {
    "collapsed": true
   },
   "outputs": [],
   "source": [
    "df = sqlContext.read.format('com.databricks.spark.csv').options(header='true', inferschema='true').load(file_path)"
   ]
  },
  {
   "cell_type": "code",
   "execution_count": 8,
   "metadata": {
    "collapsed": true
   },
   "outputs": [],
   "source": [
    "# 1. Calculate the usage of Irish road network in terms of percentage grouped by vehicle category."
   ]
  },
  {
   "cell_type": "code",
   "execution_count": 9,
   "metadata": {},
   "outputs": [
    {
     "name": "stdout",
     "output_type": "stream",
     "text": [
      "+---------+--------------------+\n",
      "|classname|             percent|\n",
      "+---------+--------------------+\n",
      "|      CAR|   80.25858594040197|\n",
      "|      LGV|  11.194464465420944|\n",
      "|  HGV_ART|   4.397450167807071|\n",
      "|  HGV_RIG|  2.7310861887745705|\n",
      "|      BUS|  0.6871114761643508|\n",
      "|  CARAVAN| 0.42912036442325563|\n",
      "|    MBIKE| 0.29486205142905475|\n",
      "|     null|0.007319345578788326|\n",
      "+---------+--------------------+\n",
      "\n"
     ]
    }
   ],
   "source": [
    "total_vehicles = df.count()\n",
    "\n",
    "q1DF = (df\n",
    "        .groupBy('classname')\n",
    "        .count()\n",
    "        .withColumn('percent', (col('count') * 100) / total_vehicles)\n",
    "        .select('classname', 'percent')\n",
    "        .orderBy(desc('percent')))\n",
    "\n",
    "q1DF.show()\n",
    "\n",
    "saveToCassandra(q1DF.filter(col(\"classname\").isNotNull()), \"q1\")"
   ]
  },
  {
   "cell_type": "code",
   "execution_count": 10,
   "metadata": {
    "collapsed": true
   },
   "outputs": [],
   "source": [
    "# 2. Calculate the highest and lowest hourly flows on M50 - show the hours and total number of vehicle counts."
   ]
  },
  {
   "cell_type": "code",
   "execution_count": 11,
   "metadata": {},
   "outputs": [
    {
     "name": "stdout",
     "output_type": "stream",
     "text": [
      "+----+------+\n",
      "|hour| count|\n",
      "+----+------+\n",
      "|  16|385850|\n",
      "+----+------+\n",
      "\n",
      "+----+-----+\n",
      "|hour|count|\n",
      "+----+-----+\n",
      "|   2|13682|\n",
      "+----+-----+\n",
      "\n"
     ]
    }
   ],
   "source": [
    "hourDF = df.groupBy('hour').count()\n",
    "\n",
    "maxDF = hourDF.orderBy(desc('count')).limit(1)\n",
    "minDF = hourDF.orderBy('count').limit(1)\n",
    "\n",
    "maxDF.show()\n",
    "minDF.show()\n",
    "\n",
    "saveToCassandra(maxDF, \"q2_max\")\n",
    "saveToCassandra(minDF, \"q2_min\")"
   ]
  },
  {
   "cell_type": "code",
   "execution_count": 12,
   "metadata": {
    "collapsed": true
   },
   "outputs": [],
   "source": [
    "# 3. Calculate the evening and morning rush hours on M50 - show the hours and the total counts."
   ]
  },
  {
   "cell_type": "code",
   "execution_count": 13,
   "metadata": {},
   "outputs": [
    {
     "name": "stdout",
     "output_type": "stream",
     "text": [
      "+----+------+\n",
      "|hour| count|\n",
      "+----+------+\n",
      "|   4| 27187|\n",
      "|   5| 61937|\n",
      "|   6|198369|\n",
      "|   7|299784|\n",
      "|   8|352862|\n",
      "|   9|277509|\n",
      "|  10|256183|\n",
      "|  11|246847|\n",
      "+----+------+\n",
      "\n",
      "+----+------+\n",
      "|hour| count|\n",
      "+----+------+\n",
      "|  16|385850|\n",
      "|  17|367269|\n",
      "|  18|314085|\n",
      "|  19|232409|\n",
      "+----+------+\n",
      "\n"
     ]
    }
   ],
   "source": [
    "hourDF = df.groupBy('hour').count().orderBy('hour')\n",
    "\n",
    "morningDF = hourDF.filter((col('hour') < 12) & (col('hour') >= 4))\n",
    "eveningDF = hourDF.filter((col('hour') < 20) & (col('hour') >= 16))\n",
    "\n",
    "morningDF.show()\n",
    "eveningDF.show()\n",
    "\n",
    "saveToCassandra(morningDF, \"q3_morning\")\n",
    "saveToCassandra(eveningDF, \"q3_evening\")"
   ]
  },
  {
   "cell_type": "code",
   "execution_count": 14,
   "metadata": {
    "collapsed": true
   },
   "outputs": [],
   "source": [
    "# 4. Calculate average speed between each junction on M50 (e.g., junction 1 - junction 2, junction 2 - junction 3, etc.)."
   ]
  },
  {
   "cell_type": "code",
   "execution_count": 15,
   "metadata": {},
   "outputs": [
    {
     "name": "stdout",
     "output_type": "stream",
     "text": [
      "+--------------------+------------------+\n",
      "|            lanename|         avg_speed|\n",
      "+--------------------+------------------+\n",
      "| Southbound 1 (slow)| 135.4469130170314|\n",
      "|       Northbound 2 |122.31002458344715|\n",
      "|        Eastbound  2|114.68716172331673|\n",
      "|  Eastbound 2 (fast)|113.59000942507083|\n",
      "| Southbound 2 (fast)|111.72458022387893|\n",
      "|  Westbound 2 (fast)|111.34068965517257|\n",
      "| Northbound 2 (fast)|110.21109738884894|\n",
      "|          southbound| 104.4090909090909|\n",
      "|         Nortbound 1|103.95987028779895|\n",
      "| Northbound 1 (slow)|103.63843987902779|\n",
      "|  Westbound 3 (fast)|103.47554310278697|\n",
      "|  Eastbound 3 (fast)|100.55896097639352|\n",
      "|        Southbound 2| 97.79121728990314|\n",
      "|        Northbound 2| 97.76209841746629|\n",
      "|  Westbound 2 (slow)| 95.40281196241926|\n",
      "|Southbound Mainli...| 95.25522388059701|\n",
      "|         Westbound 2| 93.36724880445983|\n",
      "|         Eastbound 2| 92.79648071706569|\n",
      "|   Eastbound on slip|  92.7741935483871|\n",
      "|        Southbound 1| 92.74038016587762|\n",
      "+--------------------+------------------+\n",
      "only showing top 20 rows\n",
      "\n"
     ]
    }
   ],
   "source": [
    "q4DF = (df\n",
    "        .groupBy('lanename')\n",
    "        .agg(mean('speed').alias(\"avg_speed\"))\n",
    "        .orderBy(desc('avg_speed')))\n",
    "\n",
    "q4DF.show()\n",
    "\n",
    "saveToCassandra(q4DF, \"q4\")"
   ]
  },
  {
   "cell_type": "code",
   "execution_count": 16,
   "metadata": {
    "collapsed": true
   },
   "outputs": [],
   "source": [
    "# 5. Calculate the top 10 locations with highest number of counts of HGVs (class). Map the COSITs with their names given on the map."
   ]
  },
  {
   "cell_type": "code",
   "execution_count": 17,
   "metadata": {},
   "outputs": [
    {
     "name": "stdout",
     "output_type": "stream",
     "text": [
      "+------------+------------------+-----+\n",
      "|    lanename|         avg_cosit|count|\n",
      "+------------+------------------+-----+\n",
      "|Northbound 1|20693.790824685962|47606|\n",
      "|Southbound 1| 20370.47938361651|47438|\n",
      "| Westbound 1| 47984.26970280579|26481|\n",
      "| Eastbound 1|50842.564949674364|25335|\n",
      "|  Northbound|11535.248807024242|20956|\n",
      "|  Southbound| 15721.02364244845|18526|\n",
      "|Northbound 2| 6737.779673675744|17406|\n",
      "|Southbound 2| 5250.837445297139|15767|\n",
      "|   Eastbound|11569.320689406504|13867|\n",
      "|   Westbound|11157.380619527628|13591|\n",
      "+------------+------------------+-----+\n",
      "only showing top 10 rows\n",
      "\n"
     ]
    }
   ],
   "source": [
    "q5DF = (df\n",
    "        .filter(col('classname').contains('HGV'))\n",
    "        .groupBy('lanename')\n",
    "        .agg(mean('cosit').alias('avg_cosit'), count('lanename').alias('count'))\n",
    "        .orderBy(desc('count')))\n",
    "\n",
    "q5DF.show(10)\n",
    "\n",
    "saveToCassandra(q5DF, \"q5\")"
   ]
  },
  {
   "cell_type": "code",
   "execution_count": null,
   "metadata": {
    "collapsed": true
   },
   "outputs": [],
   "source": []
  }
 ],
 "metadata": {
  "kernelspec": {
   "display_name": "Python 3",
   "language": "python",
   "name": "python3"
  },
  "language_info": {
   "codemirror_mode": {
    "name": "ipython",
    "version": 3
   },
   "file_extension": ".py",
   "mimetype": "text/x-python",
   "name": "python",
   "nbconvert_exporter": "python",
   "pygments_lexer": "ipython3",
   "version": "3.5.2"
  }
 },
 "nbformat": 4,
 "nbformat_minor": 2
}
