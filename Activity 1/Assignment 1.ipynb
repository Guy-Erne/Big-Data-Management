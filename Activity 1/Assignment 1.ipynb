{
 "cells": [
  {
   "cell_type": "markdown",
   "metadata": {
    "colab_type": "text",
    "id": "Kc64vxXV8tOd"
   },
   "source": [
    "Importing the necessary Spark environment, and downloading the [dataset](https://data.tii.ie/Datasets/TrafficCountData/2020/01/31/per-vehicle-records-2020-01-31.csv)."
   ]
  },
  {
   "cell_type": "code",
   "execution_count": 1,
   "metadata": {
    "colab": {
     "base_uri": "https://localhost:8080/",
     "height": 193
    },
    "colab_type": "code",
    "id": "P-aad4EZ7_5z",
    "outputId": "21213f99-099a-44a8-bed7-a00f1b0baa90"
   },
   "outputs": [
    {
     "name": "stdout",
     "output_type": "stream",
     "text": [
      "Collecting wget\n",
      "  Downloading https://files.pythonhosted.org/packages/47/6a/62e288da7bcda82b935ff0c6cfe542970f04e29c756b0e147251b2fb251f/wget-3.2.zip\n",
      "Building wheels for collected packages: wget\n",
      "  Building wheel for wget (setup.py) ... \u001b[?25l\u001b[?25hdone\n",
      "  Created wheel for wget: filename=wget-3.2-cp36-none-any.whl size=9682 sha256=dbcd044e8d906ec859d60f82c7d6c965590edeef0e6589f0ef1b62feafd401e9\n",
      "  Stored in directory: /root/.cache/pip/wheels/40/15/30/7d8f7cea2902b4db79e3fea550d7d7b85ecb27ef992b618f3f\n",
      "Successfully built wget\n",
      "Installing collected packages: wget\n",
      "Successfully installed wget-3.2\n"
     ]
    }
   ],
   "source": [
    "!pip install wget\n",
    "!apt-get install openjdk-8-jdk-headless -qq > /dev/null\n",
    "!wget -q https://archive.apache.org/dist/spark/spark-2.4.0/spark-2.4.0-bin-hadoop2.7.tgz\n",
    "!tar xf spark-2.4.0-bin-hadoop2.7.tgz\n",
    "!pip install -q findspark\n",
    "import os\n",
    "os.environ[\"JAVA_HOME\"] = \"/usr/lib/jvm/java-8-openjdk-amd64\"\n",
    "os.environ[\"SPARK_HOME\"] = \"/content/spark-2.4.0-bin-hadoop2.7\"\n",
    "\n",
    "import wget\n",
    "link_to_data = 'https://data.tii.ie/Datasets/TrafficCountData/2020/01/31/per-vehicle-records-2020-01-31.csv'\n",
    "DataSet = wget.download(link_to_data)"
   ]
  },
  {
   "cell_type": "markdown",
   "metadata": {
    "colab_type": "text",
    "id": "W5z5FuhL9NM0"
   },
   "source": [
    "Checking the contents of the local directory"
   ]
  },
  {
   "cell_type": "code",
   "execution_count": 2,
   "metadata": {
    "colab": {
     "base_uri": "https://localhost:8080/",
     "height": 52
    },
    "colab_type": "code",
    "id": "XMYs8ryf86-s",
    "outputId": "620d5b2f-f959-411d-87e7-01851660b65a"
   },
   "outputs": [
    {
     "name": "stdout",
     "output_type": "stream",
     "text": [
      "per-vehicle-records-2020-01-31.csv  spark-2.4.0-bin-hadoop2.7\n",
      "sample_data\t\t\t    spark-2.4.0-bin-hadoop2.7.tgz\n"
     ]
    }
   ],
   "source": [
    "!ls"
   ]
  },
  {
   "cell_type": "markdown",
   "metadata": {
    "colab_type": "text",
    "id": "KqxjaBeK9SjA"
   },
   "source": [
    "Initializing spark and loading the data into Spark DataFrame"
   ]
  },
  {
   "cell_type": "code",
   "execution_count": 3,
   "metadata": {
    "colab": {},
    "colab_type": "code",
    "id": "f0SiuoGK9MMB"
   },
   "outputs": [],
   "source": [
    "import findspark\n",
    "findspark.init()\n",
    "from pyspark.sql import SparkSession\n",
    "import pyspark.sql.functions as f\n",
    "from pyspark.sql.window import Window\n",
    "\n",
    "spark = SparkSession.builder.appName('Assignment-1').getOrCreate()\n",
    "\n",
    "# loading the data\n",
    "vehicle_counter_DF = spark.read.csv(\n",
    "    './per-vehicle-records-2020-01-31.csv',\n",
    "    inferSchema = True, \n",
    "    header = True\n",
    ")"
   ]
  },
  {
   "cell_type": "markdown",
   "metadata": {
    "colab_type": "text",
    "id": "QkeB3HgR900N"
   },
   "source": [
    "Checking the type of `vehicle_counter_DF`"
   ]
  },
  {
   "cell_type": "code",
   "execution_count": 4,
   "metadata": {
    "colab": {
     "base_uri": "https://localhost:8080/",
     "height": 35
    },
    "colab_type": "code",
    "id": "-b8ZgsZi90FC",
    "outputId": "b56e190e-a3c3-4a3d-c23f-95edf79c8e66"
   },
   "outputs": [
    {
     "data": {
      "text/plain": [
       "pyspark.sql.dataframe.DataFrame"
      ]
     },
     "execution_count": 4,
     "metadata": {
      "tags": []
     },
     "output_type": "execute_result"
    }
   ],
   "source": [
    "type(vehicle_counter_DF)"
   ]
  },
  {
   "cell_type": "markdown",
   "metadata": {
    "colab_type": "text",
    "id": "7ielImCW9z2N"
   },
   "source": [
    "Counting the number of lines/records in `vehicle_counter_DF`"
   ]
  },
  {
   "cell_type": "code",
   "execution_count": 5,
   "metadata": {
    "colab": {
     "base_uri": "https://localhost:8080/",
     "height": 35
    },
    "colab_type": "code",
    "id": "9Fb20Ic99zrN",
    "outputId": "7a934d7a-12a4-4c0f-d9b9-064f74b25629"
   },
   "outputs": [
    {
     "data": {
      "text/plain": [
       "4740861"
      ]
     },
     "execution_count": 5,
     "metadata": {
      "tags": []
     },
     "output_type": "execute_result"
    }
   ],
   "source": [
    "vehicle_counter_DF.count()"
   ]
  },
  {
   "cell_type": "markdown",
   "metadata": {
    "colab_type": "text",
    "id": "hQhr-fZR9zeP"
   },
   "source": [
    "Taking a look at the first 5 lines in `vehicle_counter_DF`"
   ]
  },
  {
   "cell_type": "code",
   "execution_count": 6,
   "metadata": {
    "colab": {
     "base_uri": "https://localhost:8080/",
     "height": 228
    },
    "colab_type": "code",
    "id": "dS_1l4eN9zRo",
    "outputId": "c5551bc5-9c73-45bc-cb16-6f534f52ca63"
   },
   "outputs": [
    {
     "name": "stdout",
     "output_type": "stream",
     "text": [
      "+-----+----+-----+---+----+------+------+-----------+-----------+----+--------+------------+----------------+-----+---------+------+-------+----+-----+------+-----------+--------+------------+-------------+-----------+------------+\n",
      "|cosit|year|month|day|hour|minute|second|millisecond|minuteofday|lane|lanename|straddlelane|straddlelanename|class|classname|length|headway| gap|speed|weight|temperature|duration|validitycode|numberofaxles|axleweights|axlespacings|\n",
      "+-----+----+-----+---+----+------+------+-----------+-----------+----+--------+------------+----------------+-----+---------+------+-------+----+-----+------+-----------+--------+------------+-------------+-----------+------------+\n",
      "|  997|2020|    1| 31|   1|    45|     1|          0|        105|   2|   Test2|           0|            null|    5|  HGV_RIG|  11.2|   3.55|3.83| 69.0|   0.0|        0.0|       0|           0|            0|       null|        null|\n",
      "|  997|2020|    1| 31|   1|    45|     3|          0|        105|   1|   Test1|           0|            null|    5|  HGV_RIG|  11.3|   3.39|3.73| 70.0|   0.0|        0.0|       0|           0|            0|       null|        null|\n",
      "|  997|2020|    1| 31|   1|    45|     4|          0|        105|   2|   Test2|           0|            null|    2|      CAR|   5.0|   3.13|2.82| 69.0|   0.0|        0.0|       0|           0|            0|       null|        null|\n",
      "|  997|2020|    1| 31|   1|    45|     6|          0|        105|   1|   Test1|           0|            null|    2|      CAR|   5.1|   3.05|2.72| 69.0|   0.0|        0.0|       0|           0|            0|       null|        null|\n",
      "|  997|2020|    1| 31|   1|    45|     8|          0|        105|   2|   Test2|           0|            null|    2|      CAR|   5.3|   3.32|3.44| 71.0|   0.0|        0.0|       0|           0|            0|       null|        null|\n",
      "+-----+----+-----+---+----+------+------+-----------+-----------+----+--------+------------+----------------+-----+---------+------+-------+----+-----+------+-----------+--------+------------+-------------+-----------+------------+\n",
      "only showing top 5 rows\n",
      "\n"
     ]
    }
   ],
   "source": [
    "vehicle_counter_DF.show(5)"
   ]
  },
  {
   "cell_type": "markdown",
   "metadata": {
    "colab_type": "text",
    "id": "nlvl0zvK9zEE"
   },
   "source": [
    "Checking the DataFrame Schema"
   ]
  },
  {
   "cell_type": "code",
   "execution_count": 7,
   "metadata": {
    "colab": {
     "base_uri": "https://localhost:8080/",
     "height": 503
    },
    "colab_type": "code",
    "id": "ADfvVCWD9y2k",
    "outputId": "97b520e4-3efa-4bd2-8559-23f1124fd35f"
   },
   "outputs": [
    {
     "name": "stdout",
     "output_type": "stream",
     "text": [
      "root\n",
      " |-- cosit: integer (nullable = true)\n",
      " |-- year: integer (nullable = true)\n",
      " |-- month: integer (nullable = true)\n",
      " |-- day: integer (nullable = true)\n",
      " |-- hour: integer (nullable = true)\n",
      " |-- minute: integer (nullable = true)\n",
      " |-- second: integer (nullable = true)\n",
      " |-- millisecond: integer (nullable = true)\n",
      " |-- minuteofday: integer (nullable = true)\n",
      " |-- lane: integer (nullable = true)\n",
      " |-- lanename: string (nullable = true)\n",
      " |-- straddlelane: integer (nullable = true)\n",
      " |-- straddlelanename: string (nullable = true)\n",
      " |-- class: integer (nullable = true)\n",
      " |-- classname: string (nullable = true)\n",
      " |-- length: double (nullable = true)\n",
      " |-- headway: double (nullable = true)\n",
      " |-- gap: double (nullable = true)\n",
      " |-- speed: double (nullable = true)\n",
      " |-- weight: double (nullable = true)\n",
      " |-- temperature: double (nullable = true)\n",
      " |-- duration: integer (nullable = true)\n",
      " |-- validitycode: integer (nullable = true)\n",
      " |-- numberofaxles: integer (nullable = true)\n",
      " |-- axleweights: string (nullable = true)\n",
      " |-- axlespacings: string (nullable = true)\n",
      "\n"
     ]
    }
   ],
   "source": [
    "vehicle_counter_DF.printSchema()"
   ]
  },
  {
   "cell_type": "markdown",
   "metadata": {
    "colab_type": "text",
    "id": "e-lvPgqg9yn_"
   },
   "source": [
    "# Question 1\n",
    "\n",
    "Calculate the usage of Irish road network in terms of percentage grouped by vehicle category."
   ]
  },
  {
   "cell_type": "code",
   "execution_count": 8,
   "metadata": {
    "colab": {
     "base_uri": "https://localhost:8080/",
     "height": 243
    },
    "colab_type": "code",
    "id": "DHPQK-l39yXS",
    "outputId": "410d41dd-848e-46a5-a623-a5faf94cd36f"
   },
   "outputs": [
    {
     "name": "stdout",
     "output_type": "stream",
     "text": [
      "+---------+--------------------+\n",
      "|classname|             percent|\n",
      "+---------+--------------------+\n",
      "|      CAR|   80.25858594040197|\n",
      "|      LGV|  11.194464465420944|\n",
      "|  HGV_ART|   4.397450167807071|\n",
      "|  HGV_RIG|  2.7310861887745705|\n",
      "|      BUS|  0.6871114761643508|\n",
      "|  CARAVAN| 0.42912036442325563|\n",
      "|    MBIKE| 0.29486205142905475|\n",
      "|     null|0.007319345578788326|\n",
      "+---------+--------------------+\n",
      "\n"
     ]
    }
   ],
   "source": [
    "vehicle_counter_DF\\\n",
    ".groupBy('classname')\\\n",
    ".count()\\\n",
    ".withColumn('percent', \n",
    "            f.col('count')*100/f.sum('count').over(Window.partitionBy()))\\\n",
    ".select(['classname', 'percent'])\\\n",
    ".orderBy('percent', ascending=False)\\\n",
    ".show()"
   ]
  },
  {
   "cell_type": "markdown",
   "metadata": {
    "colab_type": "text",
    "id": "WXHTT2oo9x7d"
   },
   "source": [
    "# Question 2\n",
    "\n",
    "Calculate the highest and lowest hourly flows on M50 - show the hours and total number of vehicle counts."
   ]
  },
  {
   "cell_type": "markdown",
   "metadata": {
    "colab_type": "text",
    "id": "_mm7SFyqKoM9"
   },
   "source": [
    "## Highest Hourly flow"
   ]
  },
  {
   "cell_type": "code",
   "execution_count": 9,
   "metadata": {
    "colab": {
     "base_uri": "https://localhost:8080/",
     "height": 139
    },
    "colab_type": "code",
    "id": "SAUvQUUy9mB9",
    "outputId": "f4733a14-b46b-4e1b-a1fb-c8749bb88b0e"
   },
   "outputs": [
    {
     "name": "stdout",
     "output_type": "stream",
     "text": [
      "+----+------+\n",
      "|hour| count|\n",
      "+----+------+\n",
      "|  16|385850|\n",
      "+----+------+\n",
      "only showing top 1 row\n",
      "\n"
     ]
    }
   ],
   "source": [
    "vehicle_counter_DF\\\n",
    ".groupBy('hour')\\\n",
    ".count()\\\n",
    ".orderBy('count', ascending=False)\\\n",
    ".show(1)"
   ]
  },
  {
   "cell_type": "markdown",
   "metadata": {
    "colab_type": "text",
    "id": "KfWe0OKrKuhV"
   },
   "source": [
    "## Lowest Hourly flow"
   ]
  },
  {
   "cell_type": "code",
   "execution_count": 10,
   "metadata": {
    "colab": {
     "base_uri": "https://localhost:8080/",
     "height": 139
    },
    "colab_type": "code",
    "id": "bfvA30AIKuRj",
    "outputId": "93d4e1af-54a7-4b9f-ec94-c133e7e0e193"
   },
   "outputs": [
    {
     "name": "stdout",
     "output_type": "stream",
     "text": [
      "+----+-----+\n",
      "|hour|count|\n",
      "+----+-----+\n",
      "|   2|13682|\n",
      "+----+-----+\n",
      "only showing top 1 row\n",
      "\n"
     ]
    }
   ],
   "source": [
    "vehicle_counter_DF\\\n",
    ".groupBy('hour')\\\n",
    ".count()\\\n",
    ".orderBy('count', ascending=True)\\\n",
    ".show(1)"
   ]
  },
  {
   "cell_type": "markdown",
   "metadata": {
    "colab_type": "text",
    "id": "O4a_IQKQ-TbC"
   },
   "source": [
    "# Question 3\n",
    "\n",
    "Calculate the evening and morning rush hours on M50 - show the hours and the total counts."
   ]
  },
  {
   "cell_type": "markdown",
   "metadata": {
    "colab_type": "text",
    "id": "9ojbcJf2LBQf"
   },
   "source": [
    "## Morning hours\n",
    "\n",
    "From 0400 hours in the morning to 1200 hours (Noon)"
   ]
  },
  {
   "cell_type": "code",
   "execution_count": 11,
   "metadata": {
    "colab": {
     "base_uri": "https://localhost:8080/",
     "height": 243
    },
    "colab_type": "code",
    "id": "z934tLFr-TbM",
    "outputId": "aa9e9fe4-8446-41e7-ad3f-61f0a84ead8c"
   },
   "outputs": [
    {
     "name": "stdout",
     "output_type": "stream",
     "text": [
      "+----+------+\n",
      "|hour| count|\n",
      "+----+------+\n",
      "|   4| 27187|\n",
      "|   5| 61937|\n",
      "|   6|198369|\n",
      "|   7|299784|\n",
      "|   8|352862|\n",
      "|   9|277509|\n",
      "|  10|256183|\n",
      "|  11|246847|\n",
      "+----+------+\n",
      "\n"
     ]
    }
   ],
   "source": [
    "vehicle_counter_DF\\\n",
    ".groupBy('hour')\\\n",
    ".count()\\\n",
    ".orderBy('hour', ascending=True)\\\n",
    ".filter((f.col('hour') < 12) & (f.col('hour') >= 4))\\\n",
    ".show()"
   ]
  },
  {
   "cell_type": "markdown",
   "metadata": {
    "colab_type": "text",
    "id": "yz7sYjFiLZjb"
   },
   "source": [
    "## Evening hours\n",
    "\n",
    "From 1600 hours to 2000 hours"
   ]
  },
  {
   "cell_type": "code",
   "execution_count": 12,
   "metadata": {
    "colab": {
     "base_uri": "https://localhost:8080/",
     "height": 173
    },
    "colab_type": "code",
    "id": "2_tj4A0tLZYK",
    "outputId": "156f8c87-2a7d-4f6f-9b0d-4a9b421b5f3f"
   },
   "outputs": [
    {
     "name": "stdout",
     "output_type": "stream",
     "text": [
      "+----+------+\n",
      "|hour| count|\n",
      "+----+------+\n",
      "|  16|385850|\n",
      "|  17|367269|\n",
      "|  18|314085|\n",
      "|  19|232409|\n",
      "+----+------+\n",
      "\n"
     ]
    }
   ],
   "source": [
    "vehicle_counter_DF\\\n",
    ".groupBy('hour')\\\n",
    ".count()\\\n",
    ".orderBy('hour', ascending=True)\\\n",
    ".filter((f.col('hour') < 20) & (f.col('hour') >= 16))\\\n",
    ".show()"
   ]
  },
  {
   "cell_type": "markdown",
   "metadata": {
    "colab_type": "text",
    "id": "2MvgPUXf-Tba"
   },
   "source": [
    "# Question 4\n",
    "\n",
    "Calculate average speed between each junction on M50 (e.g., junction 1, junction 2 - junction 3, etc.)."
   ]
  },
  {
   "cell_type": "code",
   "execution_count": 13,
   "metadata": {
    "colab": {
     "base_uri": "https://localhost:8080/",
     "height": 468
    },
    "colab_type": "code",
    "id": "YkARME7B-Tbe",
    "outputId": "ffc06999-9583-4ef1-f478-6e1fd3690f3c"
   },
   "outputs": [
    {
     "name": "stdout",
     "output_type": "stream",
     "text": [
      "+--------------------+------------------+\n",
      "|            lanename|        avg(speed)|\n",
      "+--------------------+------------------+\n",
      "| Southbound 1 (slow)| 135.4469130170314|\n",
      "|       Northbound 2 |122.31002458344715|\n",
      "|        Eastbound  2|114.68716172331673|\n",
      "|  Eastbound 2 (fast)|113.59000942507083|\n",
      "| Southbound 2 (fast)|111.72458022387893|\n",
      "|  Westbound 2 (fast)|111.34068965517257|\n",
      "| Northbound 2 (fast)|110.21109738884894|\n",
      "|          southbound| 104.4090909090909|\n",
      "|         Nortbound 1|103.95987028779895|\n",
      "| Northbound 1 (slow)|103.63843987902779|\n",
      "|  Westbound 3 (fast)|103.47554310278697|\n",
      "|  Eastbound 3 (fast)|100.55896097639352|\n",
      "|        Southbound 2| 97.79121728990314|\n",
      "|        Northbound 2| 97.76209841746629|\n",
      "|  Westbound 2 (slow)| 95.40281196241926|\n",
      "|Southbound Mainli...| 95.25522388059701|\n",
      "|         Westbound 2| 93.36724880445983|\n",
      "|         Eastbound 2| 92.79648071706569|\n",
      "|   Eastbound on slip|  92.7741935483871|\n",
      "|        Southbound 1| 92.74038016587762|\n",
      "+--------------------+------------------+\n",
      "only showing top 20 rows\n",
      "\n"
     ]
    }
   ],
   "source": [
    "vehicle_counter_DF\\\n",
    ".groupBy('lanename')\\\n",
    ".agg({'speed': 'mean'})\\\n",
    ".orderBy('avg(speed)', ascending=False)\\\n",
    ".show()"
   ]
  },
  {
   "cell_type": "markdown",
   "metadata": {
    "colab_type": "text",
    "id": "tKDdiz9M-UDw"
   },
   "source": [
    "# Question 5\n",
    "\n",
    "Calculate the top 10 locations with highest number of counts of HGVs (class). Map the COSITs with their names given on the map."
   ]
  },
  {
   "cell_type": "code",
   "execution_count": 14,
   "metadata": {
    "colab": {
     "base_uri": "https://localhost:8080/",
     "height": 295
    },
    "colab_type": "code",
    "id": "xAdUf3dQ-UD1",
    "outputId": "49f16399-7c50-4f75-fb41-84199f976414"
   },
   "outputs": [
    {
     "name": "stdout",
     "output_type": "stream",
     "text": [
      "+------------+------------------+-----+\n",
      "|    lanename|     Average cosit|count|\n",
      "+------------+------------------+-----+\n",
      "|Northbound 1|20693.790824685962|47606|\n",
      "|Southbound 1| 20370.47938361651|47438|\n",
      "| Westbound 1| 47984.26970280579|26481|\n",
      "| Eastbound 1|50842.564949674364|25335|\n",
      "|  Northbound|11535.248807024242|20956|\n",
      "|  Southbound| 15721.02364244845|18526|\n",
      "|Northbound 2| 6737.779673675744|17406|\n",
      "|Southbound 2| 5250.837445297139|15767|\n",
      "|   Eastbound|11569.320689406504|13867|\n",
      "|   Westbound|11157.380619527628|13591|\n",
      "+------------+------------------+-----+\n",
      "only showing top 10 rows\n",
      "\n"
     ]
    }
   ],
   "source": [
    "vehicle_counter_DF\\\n",
    ".filter((f.col('classname') == \"HGV_ART\") | (f.col('classname') == \"HGV_RIG\"))\\\n",
    ".groupBy('lanename')\\\n",
    ".agg(\n",
    "    f.mean(\"cosit\").alias('Average cosit'),\n",
    "    f.count(f.lit(1)).alias('count')\n",
    ")\\\n",
    ".orderBy('count', ascending=False)\\\n",
    ".show(10)"
   ]
  }
 ],
 "metadata": {
  "colab": {
   "collapsed_sections": [],
   "name": "Assignment 1.ipynb",
   "provenance": []
  },
  "kernelspec": {
   "display_name": "Python 3",
   "language": "python",
   "name": "python3"
  },
  "language_info": {
   "codemirror_mode": {
    "name": "ipython",
    "version": 3
   },
   "file_extension": ".py",
   "mimetype": "text/x-python",
   "name": "python",
   "nbconvert_exporter": "python",
   "pygments_lexer": "ipython3",
   "version": "3.6.4"
  }
 },
 "nbformat": 4,
 "nbformat_minor": 1
}
